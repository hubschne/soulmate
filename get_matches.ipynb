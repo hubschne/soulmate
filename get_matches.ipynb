{
 "cells": [
  {
   "cell_type": "markdown",
   "metadata": {},
   "source": [
    "# Find your soulmate\n",
    "\n",
    "I created this little notebook during a Data Science bootcamp. One day we were jokingly asking each other \"light-hearted\" preference questions like 'are you a cat or dog person' or 'pineapple on pizza yes/no' and I decided to set up a small google survey and wrote this notebook so that we could find out our bootcamp soulmates. \n",
    "\n",
    "Calculates the number of matching answers between participants and adds the most similar participant(s) as last column.  \n",
    "Download results of survey as data.csv\n",
    "\n",
    "Suspected issue:\n",
    "The script might not work if two Survey participants have the same name."
   ]
  },
  {
   "cell_type": "code",
   "execution_count": null,
   "metadata": {},
   "outputs": [],
   "source": [
    "import pandas as pd\n",
    "import numpy as np"
   ]
  },
  {
   "cell_type": "code",
   "execution_count": null,
   "metadata": {},
   "outputs": [],
   "source": [
    "df = pd.read_csv(\"data/data.csv\")"
   ]
  },
  {
   "cell_type": "code",
   "execution_count": null,
   "metadata": {},
   "outputs": [],
   "source": [
    "df = df.drop(\"Timestamp\",errors=\"ignore\",axis=1)\n",
    "col = df.pop(\"Name:\")\n",
    "df.insert(0,\"name\",col) # Name as first column"
   ]
  },
  {
   "cell_type": "code",
   "execution_count": null,
   "metadata": {},
   "outputs": [],
   "source": [
    "df = df.set_index(df.name)"
   ]
  },
  {
   "cell_type": "code",
   "execution_count": null,
   "metadata": {},
   "outputs": [],
   "source": [
    "zero_arr = np.zeros((df.shape[0],df.shape[0]), int) # Get a n x n matrix where n = number of participants in the survey\n",
    "\n",
    "mat = pd.DataFrame(zero_arr, columns=df.name,index=df.name) # Create the n x n matrix as df with names' as columns.\n"
   ]
  },
  {
   "cell_type": "code",
   "execution_count": null,
   "metadata": {},
   "outputs": [],
   "source": [
    "for name1 in df.name:\n",
    "    matches = []\n",
    "    for name2 in df.name:\n",
    "        matches.append(sum(df.loc[name1] == df.loc[name2]))\n",
    "    mat.loc[name1] = matches  # Counts number of matches row by row."
   ]
  },
  {
   "cell_type": "code",
   "execution_count": null,
   "metadata": {},
   "outputs": [],
   "source": [
    "np.fill_diagonal(mat.values,0) # Set diagonal to 0 so that max() works."
   ]
  },
  {
   "cell_type": "code",
   "execution_count": null,
   "metadata": {},
   "outputs": [],
   "source": [
    "mat.loc[\"Jan\"]"
   ]
  },
  {
   "cell_type": "code",
   "execution_count": null,
   "metadata": {},
   "outputs": [],
   "source": [
    "mat.columns[mat.loc[\"Jan\"] == mat.loc[\"Jan\"].max()]"
   ]
  },
  {
   "cell_type": "code",
   "execution_count": null,
   "metadata": {},
   "outputs": [],
   "source": [
    "max_li = []\n",
    "for name in mat.columns:\n",
    "    mat.loc[name] == mat.loc[name].max()\n",
    "    max_li.append(mat.columns[mat.loc[name] == mat.loc[name].max()].tolist()) # Selects those columns(=names) with Max value in row.\n",
    "mat[\"best_match\"] = max_li\n",
    "\n",
    "# Loop instead of idmax() so that ties can be seen."
   ]
  },
  {
   "cell_type": "code",
   "execution_count": null,
   "metadata": {},
   "outputs": [],
   "source": [
    "mat"
   ]
  }
 ],
 "metadata": {
  "kernelspec": {
   "display_name": ".venv",
   "language": "python",
   "name": "python3"
  },
  "language_info": {
   "codemirror_mode": {
    "name": "ipython",
    "version": 3
   },
   "file_extension": ".py",
   "mimetype": "text/x-python",
   "name": "python",
   "nbconvert_exporter": "python",
   "pygments_lexer": "ipython3",
   "version": "3.11.3"
  },
  "orig_nbformat": 4
 },
 "nbformat": 4,
 "nbformat_minor": 2
}
