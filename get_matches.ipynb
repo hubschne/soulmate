{
 "cells": [
  {
   "cell_type": "markdown",
   "metadata": {},
   "source": [
    "# Intro to find your soulmate\n",
    "Calculates the number of matching answers between participants and adds the most similar participant(s) as last column.  \n",
    "Download results of survey as data.csv"
   ]
  },
  {
   "cell_type": "code",
   "execution_count": 105,
   "metadata": {},
   "outputs": [],
   "source": [
    "import pandas as pd\n",
    "import numpy as np"
   ]
  },
  {
   "cell_type": "code",
   "execution_count": 106,
   "metadata": {},
   "outputs": [],
   "source": [
    "df = pd.read_csv(\"data/data.csv\")\n"
   ]
  },
  {
   "cell_type": "code",
   "execution_count": 107,
   "metadata": {},
   "outputs": [],
   "source": [
    "df = df.drop(\"Timestamp\",errors=\"ignore\",axis=1)\n",
    "col = df.pop(\"Name:\")\n",
    "df.insert(0,\"name\",col) # Name as first column"
   ]
  },
  {
   "cell_type": "code",
   "execution_count": 108,
   "metadata": {},
   "outputs": [],
   "source": [
    "df = df.set_index(df.name)"
   ]
  },
  {
   "cell_type": "code",
   "execution_count": 109,
   "metadata": {},
   "outputs": [
    {
     "data": {
      "text/html": [
       "<div>\n",
       "<style scoped>\n",
       "    .dataframe tbody tr th:only-of-type {\n",
       "        vertical-align: middle;\n",
       "    }\n",
       "\n",
       "    .dataframe tbody tr th {\n",
       "        vertical-align: top;\n",
       "    }\n",
       "\n",
       "    .dataframe thead th {\n",
       "        text-align: right;\n",
       "    }\n",
       "</style>\n",
       "<table border=\"1\" class=\"dataframe\">\n",
       "  <thead>\n",
       "    <tr style=\"text-align: right;\">\n",
       "      <th></th>\n",
       "      <th>name</th>\n",
       "      <th>Cold pizza or cold burger?</th>\n",
       "      <th>Crunchy or creamy peanut butter?</th>\n",
       "      <th>Cat or Dog?</th>\n",
       "      <th>Coffee or Tea</th>\n",
       "      <th>Star Trek vs Star Wars</th>\n",
       "      <th>Beach or mountains?</th>\n",
       "      <th>Shower before or after bed?</th>\n",
       "      <th>Coke or Pepsi</th>\n",
       "      <th>Salty or sugary popcorn</th>\n",
       "    </tr>\n",
       "    <tr>\n",
       "      <th>name</th>\n",
       "      <th></th>\n",
       "      <th></th>\n",
       "      <th></th>\n",
       "      <th></th>\n",
       "      <th></th>\n",
       "      <th></th>\n",
       "      <th></th>\n",
       "      <th></th>\n",
       "      <th></th>\n",
       "      <th></th>\n",
       "    </tr>\n",
       "  </thead>\n",
       "  <tbody>\n",
       "    <tr>\n",
       "      <th>Jan</th>\n",
       "      <td>Jan</td>\n",
       "      <td>Cold pizza</td>\n",
       "      <td>Crunchy</td>\n",
       "      <td>Dog</td>\n",
       "      <td>Coffee</td>\n",
       "      <td>Star Wars</td>\n",
       "      <td>Mountains</td>\n",
       "      <td>Before</td>\n",
       "      <td>Coke</td>\n",
       "      <td>Salt</td>\n",
       "    </tr>\n",
       "    <tr>\n",
       "      <th>Shahi</th>\n",
       "      <td>Shahi</td>\n",
       "      <td>Cold burger</td>\n",
       "      <td>Creamy</td>\n",
       "      <td>Cat</td>\n",
       "      <td>Coffee</td>\n",
       "      <td>Star Trek</td>\n",
       "      <td>Beach</td>\n",
       "      <td>After</td>\n",
       "      <td>Coke</td>\n",
       "      <td>Salt</td>\n",
       "    </tr>\n",
       "    <tr>\n",
       "      <th>Larissa</th>\n",
       "      <td>Larissa</td>\n",
       "      <td>Cold burger</td>\n",
       "      <td>Creamy</td>\n",
       "      <td>Cat</td>\n",
       "      <td>Coffee</td>\n",
       "      <td>Star Trek</td>\n",
       "      <td>Mountains</td>\n",
       "      <td>Before</td>\n",
       "      <td>Coke</td>\n",
       "      <td>Sugar</td>\n",
       "    </tr>\n",
       "    <tr>\n",
       "      <th>Ana</th>\n",
       "      <td>Ana</td>\n",
       "      <td>Cold pizza</td>\n",
       "      <td>Crunchy</td>\n",
       "      <td>Dog</td>\n",
       "      <td>Coffee</td>\n",
       "      <td>Star Wars</td>\n",
       "      <td>Beach</td>\n",
       "      <td>After</td>\n",
       "      <td>Coke</td>\n",
       "      <td>Salt</td>\n",
       "    </tr>\n",
       "    <tr>\n",
       "      <th>Grace</th>\n",
       "      <td>Grace</td>\n",
       "      <td>Cold pizza</td>\n",
       "      <td>Crunchy</td>\n",
       "      <td>Cat</td>\n",
       "      <td>Tea</td>\n",
       "      <td>Star Wars</td>\n",
       "      <td>Beach</td>\n",
       "      <td>Before</td>\n",
       "      <td>Coke</td>\n",
       "      <td>Sugar</td>\n",
       "    </tr>\n",
       "  </tbody>\n",
       "</table>\n",
       "</div>"
      ],
      "text/plain": [
       "            name Cold pizza or cold burger? Crunchy or creamy peanut butter?   \n",
       "name                                                                           \n",
       "Jan          Jan                 Cold pizza                          Crunchy  \\\n",
       "Shahi      Shahi                Cold burger                           Creamy   \n",
       "Larissa  Larissa                Cold burger                           Creamy   \n",
       "Ana          Ana                 Cold pizza                          Crunchy   \n",
       "Grace     Grace                  Cold pizza                          Crunchy   \n",
       "\n",
       "        Cat or Dog? Coffee or Tea Star Trek vs Star Wars Beach or mountains?   \n",
       "name                                                                           \n",
       "Jan             Dog        Coffee              Star Wars           Mountains  \\\n",
       "Shahi           Cat        Coffee              Star Trek               Beach   \n",
       "Larissa         Cat        Coffee              Star Trek           Mountains   \n",
       "Ana             Dog        Coffee              Star Wars               Beach   \n",
       "Grace           Cat           Tea              Star Wars               Beach   \n",
       "\n",
       "        Shower before or after bed? Coke or Pepsi Salty or sugary popcorn  \n",
       "name                                                                       \n",
       "Jan                          Before          Coke                    Salt  \n",
       "Shahi                         After          Coke                    Salt  \n",
       "Larissa                      Before          Coke                   Sugar  \n",
       "Ana                           After          Coke                    Salt  \n",
       "Grace                        Before          Coke                   Sugar  "
      ]
     },
     "execution_count": 109,
     "metadata": {},
     "output_type": "execute_result"
    }
   ],
   "source": [
    "df.head()"
   ]
  },
  {
   "cell_type": "code",
   "execution_count": 110,
   "metadata": {},
   "outputs": [
    {
     "data": {
      "text/plain": [
       "name\n",
       "Jan            Jan\n",
       "Shahi        Shahi\n",
       "Larissa    Larissa\n",
       "Ana            Ana\n",
       "Grace       Grace \n",
       "Name: name, dtype: object"
      ]
     },
     "execution_count": 110,
     "metadata": {},
     "output_type": "execute_result"
    }
   ],
   "source": [
    "df.name"
   ]
  },
  {
   "cell_type": "code",
   "execution_count": 111,
   "metadata": {},
   "outputs": [],
   "source": [
    "z_arr = np.zeros((df.shape[0],df.shape[0]), int)\n",
    "\n",
    "mat = pd.DataFrame(z_arr, columns=df.name,index=df.name)\n"
   ]
  },
  {
   "cell_type": "code",
   "execution_count": 112,
   "metadata": {},
   "outputs": [],
   "source": [
    "for name1 in df.name:\n",
    "    matches = []\n",
    "    for name2 in df.name:\n",
    "        matches.append(sum(df.loc[name1] == df.loc[name2]))\n",
    "    mat.loc[name1] = matches  "
   ]
  },
  {
   "cell_type": "code",
   "execution_count": null,
   "metadata": {},
   "outputs": [],
   "source": [
    "# Alternative to the code block above using numpy broadcasting suggested by ChatGPT.\n",
    "\n",
    "# df_array = df.to_numpy()\n",
    "# matching_matrix = np.sum(df_array[:, None, :] == df_array[None, :, :], axis=2)\n",
    "# matching_matrix"
   ]
  },
  {
   "cell_type": "code",
   "execution_count": 113,
   "metadata": {},
   "outputs": [
    {
     "data": {
      "text/html": [
       "<div>\n",
       "<style scoped>\n",
       "    .dataframe tbody tr th:only-of-type {\n",
       "        vertical-align: middle;\n",
       "    }\n",
       "\n",
       "    .dataframe tbody tr th {\n",
       "        vertical-align: top;\n",
       "    }\n",
       "\n",
       "    .dataframe thead th {\n",
       "        text-align: right;\n",
       "    }\n",
       "</style>\n",
       "<table border=\"1\" class=\"dataframe\">\n",
       "  <thead>\n",
       "    <tr style=\"text-align: right;\">\n",
       "      <th>name</th>\n",
       "      <th>Jan</th>\n",
       "      <th>Shahi</th>\n",
       "      <th>Larissa</th>\n",
       "      <th>Ana</th>\n",
       "      <th>Grace</th>\n",
       "    </tr>\n",
       "    <tr>\n",
       "      <th>name</th>\n",
       "      <th></th>\n",
       "      <th></th>\n",
       "      <th></th>\n",
       "      <th></th>\n",
       "      <th></th>\n",
       "    </tr>\n",
       "  </thead>\n",
       "  <tbody>\n",
       "    <tr>\n",
       "      <th>Jan</th>\n",
       "      <td>10</td>\n",
       "      <td>3</td>\n",
       "      <td>4</td>\n",
       "      <td>7</td>\n",
       "      <td>5</td>\n",
       "    </tr>\n",
       "    <tr>\n",
       "      <th>Shahi</th>\n",
       "      <td>3</td>\n",
       "      <td>10</td>\n",
       "      <td>6</td>\n",
       "      <td>5</td>\n",
       "      <td>3</td>\n",
       "    </tr>\n",
       "    <tr>\n",
       "      <th>Larissa</th>\n",
       "      <td>4</td>\n",
       "      <td>6</td>\n",
       "      <td>10</td>\n",
       "      <td>2</td>\n",
       "      <td>4</td>\n",
       "    </tr>\n",
       "    <tr>\n",
       "      <th>Ana</th>\n",
       "      <td>7</td>\n",
       "      <td>5</td>\n",
       "      <td>2</td>\n",
       "      <td>10</td>\n",
       "      <td>5</td>\n",
       "    </tr>\n",
       "    <tr>\n",
       "      <th>Grace</th>\n",
       "      <td>5</td>\n",
       "      <td>3</td>\n",
       "      <td>4</td>\n",
       "      <td>5</td>\n",
       "      <td>10</td>\n",
       "    </tr>\n",
       "  </tbody>\n",
       "</table>\n",
       "</div>"
      ],
      "text/plain": [
       "name     Jan  Shahi  Larissa  Ana  Grace \n",
       "name                                     \n",
       "Jan       10      3        4    7       5\n",
       "Shahi      3     10        6    5       3\n",
       "Larissa    4      6       10    2       4\n",
       "Ana        7      5        2   10       5\n",
       "Grace      5      3        4    5      10"
      ]
     },
     "execution_count": 113,
     "metadata": {},
     "output_type": "execute_result"
    }
   ],
   "source": [
    "mat"
   ]
  },
  {
   "cell_type": "code",
   "execution_count": 114,
   "metadata": {},
   "outputs": [],
   "source": [
    "np.fill_diagonal(mat.values,0) # Set diagonal to 0 so that max() works."
   ]
  },
  {
   "cell_type": "code",
   "execution_count": 115,
   "metadata": {},
   "outputs": [],
   "source": [
    "max_li = []\n",
    "for name in mat.columns:\n",
    "    mat.loc[name] == mat.loc[name].max()\n",
    "    max_li.append(mat.columns[mat.loc[name] == mat.loc[name].max()].tolist())\n",
    "mat[\"best_match\"] = max_li\n",
    "\n",
    "# Loop instead of idmax() so that ties can be seen."
   ]
  },
  {
   "cell_type": "code",
   "execution_count": null,
   "metadata": {},
   "outputs": [],
   "source": []
  },
  {
   "cell_type": "code",
   "execution_count": 116,
   "metadata": {},
   "outputs": [
    {
     "data": {
      "text/html": [
       "<div>\n",
       "<style scoped>\n",
       "    .dataframe tbody tr th:only-of-type {\n",
       "        vertical-align: middle;\n",
       "    }\n",
       "\n",
       "    .dataframe tbody tr th {\n",
       "        vertical-align: top;\n",
       "    }\n",
       "\n",
       "    .dataframe thead th {\n",
       "        text-align: right;\n",
       "    }\n",
       "</style>\n",
       "<table border=\"1\" class=\"dataframe\">\n",
       "  <thead>\n",
       "    <tr style=\"text-align: right;\">\n",
       "      <th>name</th>\n",
       "      <th>Jan</th>\n",
       "      <th>Shahi</th>\n",
       "      <th>Larissa</th>\n",
       "      <th>Ana</th>\n",
       "      <th>Grace</th>\n",
       "      <th>best_match</th>\n",
       "    </tr>\n",
       "    <tr>\n",
       "      <th>name</th>\n",
       "      <th></th>\n",
       "      <th></th>\n",
       "      <th></th>\n",
       "      <th></th>\n",
       "      <th></th>\n",
       "      <th></th>\n",
       "    </tr>\n",
       "  </thead>\n",
       "  <tbody>\n",
       "    <tr>\n",
       "      <th>Jan</th>\n",
       "      <td>0</td>\n",
       "      <td>3</td>\n",
       "      <td>4</td>\n",
       "      <td>7</td>\n",
       "      <td>5</td>\n",
       "      <td>[Ana]</td>\n",
       "    </tr>\n",
       "    <tr>\n",
       "      <th>Shahi</th>\n",
       "      <td>3</td>\n",
       "      <td>0</td>\n",
       "      <td>6</td>\n",
       "      <td>5</td>\n",
       "      <td>3</td>\n",
       "      <td>[Larissa]</td>\n",
       "    </tr>\n",
       "    <tr>\n",
       "      <th>Larissa</th>\n",
       "      <td>4</td>\n",
       "      <td>6</td>\n",
       "      <td>0</td>\n",
       "      <td>2</td>\n",
       "      <td>4</td>\n",
       "      <td>[Shahi]</td>\n",
       "    </tr>\n",
       "    <tr>\n",
       "      <th>Ana</th>\n",
       "      <td>7</td>\n",
       "      <td>5</td>\n",
       "      <td>2</td>\n",
       "      <td>0</td>\n",
       "      <td>5</td>\n",
       "      <td>[Jan]</td>\n",
       "    </tr>\n",
       "    <tr>\n",
       "      <th>Grace</th>\n",
       "      <td>5</td>\n",
       "      <td>3</td>\n",
       "      <td>4</td>\n",
       "      <td>5</td>\n",
       "      <td>0</td>\n",
       "      <td>[Jan, Ana]</td>\n",
       "    </tr>\n",
       "  </tbody>\n",
       "</table>\n",
       "</div>"
      ],
      "text/plain": [
       "name     Jan  Shahi  Larissa  Ana  Grace   best_match\n",
       "name                                                 \n",
       "Jan        0      3        4    7       5       [Ana]\n",
       "Shahi      3      0        6    5       3   [Larissa]\n",
       "Larissa    4      6        0    2       4     [Shahi]\n",
       "Ana        7      5        2    0       5       [Jan]\n",
       "Grace      5      3        4    5       0  [Jan, Ana]"
      ]
     },
     "execution_count": 116,
     "metadata": {},
     "output_type": "execute_result"
    }
   ],
   "source": [
    "mat"
   ]
  },
  {
   "cell_type": "code",
   "execution_count": 122,
   "metadata": {},
   "outputs": [],
   "source": []
  }
 ],
 "metadata": {
  "kernelspec": {
   "display_name": ".venv",
   "language": "python",
   "name": "python3"
  },
  "language_info": {
   "codemirror_mode": {
    "name": "ipython",
    "version": 3
   },
   "file_extension": ".py",
   "mimetype": "text/x-python",
   "name": "python",
   "nbconvert_exporter": "python",
   "pygments_lexer": "ipython3",
   "version": "3.11.3"
  },
  "orig_nbformat": 4
 },
 "nbformat": 4,
 "nbformat_minor": 2
}
